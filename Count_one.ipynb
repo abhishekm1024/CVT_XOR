{
 "cells": [
  {
   "cell_type": "code",
   "execution_count": 1,
   "id": "0ea3cdf5",
   "metadata": {},
   "outputs": [],
   "source": [
    "import time\n",
    "import numpy as np"
   ]
  },
  {
   "cell_type": "code",
   "execution_count": 2,
   "id": "236a9ea3",
   "metadata": {},
   "outputs": [],
   "source": [
    "def dtb(x):\n",
    "    return bin(x).replace(\"0b\", \"\")"
   ]
  },
  {
   "cell_type": "code",
   "execution_count": 3,
   "id": "c9c11776",
   "metadata": {},
   "outputs": [],
   "source": [
    "def count_one(x):\n",
    "    one = 0\n",
    "    for i in range(len(x)):\n",
    "        for j in range(len(x[0])):\n",
    "            for k in range (len(x[0][0])):\n",
    "                t = str(dtb(x[i][j][k]))\n",
    "                one_count = 0\n",
    "                for l in t:\n",
    "                    if l == \"1\":\n",
    "                        one_count += 1\n",
    "                one += one_count\n",
    "    return one                    "
   ]
  },
  {
   "cell_type": "code",
   "execution_count": 4,
   "id": "3f44e9cd",
   "metadata": {},
   "outputs": [
    {
     "name": "stdout",
     "output_type": "stream",
     "text": [
      "CPU times: total: 0 ns\n",
      "Wall time: 16 ms\n"
     ]
    },
    {
     "data": {
      "text/plain": [
       "array([[[2, 6, 0],\n",
       "        [7, 4, 5],\n",
       "        [5, 1, 7],\n",
       "        ...,\n",
       "        [5, 5, 7],\n",
       "        [8, 8, 3],\n",
       "        [9, 8, 8]],\n",
       "\n",
       "       [[3, 8, 1],\n",
       "        [7, 3, 8],\n",
       "        [5, 2, 4],\n",
       "        ...,\n",
       "        [1, 4, 4],\n",
       "        [4, 7, 9],\n",
       "        [9, 4, 3]],\n",
       "\n",
       "       [[1, 4, 6],\n",
       "        [1, 4, 8],\n",
       "        [0, 6, 8],\n",
       "        ...,\n",
       "        [2, 6, 4],\n",
       "        [5, 6, 2],\n",
       "        [4, 8, 9]],\n",
       "\n",
       "       ...,\n",
       "\n",
       "       [[8, 6, 1],\n",
       "        [2, 7, 5],\n",
       "        [0, 7, 2],\n",
       "        ...,\n",
       "        [4, 4, 6],\n",
       "        [2, 0, 7],\n",
       "        [3, 4, 1]],\n",
       "\n",
       "       [[6, 7, 9],\n",
       "        [9, 6, 4],\n",
       "        [7, 0, 0],\n",
       "        ...,\n",
       "        [1, 6, 6],\n",
       "        [9, 7, 9],\n",
       "        [1, 9, 0]],\n",
       "\n",
       "       [[2, 5, 6],\n",
       "        [2, 2, 6],\n",
       "        [4, 9, 5],\n",
       "        ...,\n",
       "        [2, 6, 4],\n",
       "        [8, 1, 4],\n",
       "        [8, 5, 4]]])"
      ]
     },
     "execution_count": 4,
     "metadata": {},
     "output_type": "execute_result"
    }
   ],
   "source": [
    "%%time\n",
    "A = np.random.randint(10, size=(600, 600,3))\n",
    "A"
   ]
  },
  {
   "cell_type": "code",
   "execution_count": 5,
   "id": "74ad8843",
   "metadata": {},
   "outputs": [
    {
     "name": "stdout",
     "output_type": "stream",
     "text": [
      "CPU times: total: 1.02 s\n",
      "Wall time: 1.12 s\n"
     ]
    },
    {
     "data": {
      "text/plain": [
       "1619895"
      ]
     },
     "execution_count": 5,
     "metadata": {},
     "output_type": "execute_result"
    }
   ],
   "source": [
    "%%time\n",
    "count_one(A)"
   ]
  }
 ],
 "metadata": {
  "kernelspec": {
   "display_name": "Python 3 (ipykernel)",
   "language": "python",
   "name": "python3"
  },
  "language_info": {
   "codemirror_mode": {
    "name": "ipython",
    "version": 3
   },
   "file_extension": ".py",
   "mimetype": "text/x-python",
   "name": "python",
   "nbconvert_exporter": "python",
   "pygments_lexer": "ipython3",
   "version": "3.10.4"
  }
 },
 "nbformat": 4,
 "nbformat_minor": 5
}
